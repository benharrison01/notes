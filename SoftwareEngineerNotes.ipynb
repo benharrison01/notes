{
  "nbformat": 4,
  "nbformat_minor": 0,
  "metadata": {
    "colab": {
      "provenance": [],
      "authorship_tag": "ABX9TyO2NaZr+ZGJbhj+fpqRXDVK",
      "include_colab_link": true
    },
    "kernelspec": {
      "name": "python3",
      "display_name": "Python 3"
    },
    "language_info": {
      "name": "python"
    }
  },
  "cells": [
    {
      "cell_type": "markdown",
      "metadata": {
        "id": "view-in-github",
        "colab_type": "text"
      },
      "source": [
        "<a href=\"https://colab.research.google.com/github/benharrison01/notes/blob/main/SoftwareEngineerNotes.ipynb\" target=\"_parent\"><img src=\"https://colab.research.google.com/assets/colab-badge.svg\" alt=\"Open In Colab\"/></a>"
      ]
    },
    {
      "cell_type": "code",
      "execution_count": 1,
      "metadata": {
        "colab": {
          "base_uri": "https://localhost:8080/"
        },
        "id": "817kulZPhsBF",
        "outputId": "8b9e7003-ecce-49b9-c32e-89a9f562252a"
      },
      "outputs": [
        {
          "output_type": "stream",
          "name": "stdout",
          "text": [
            "hello world\n"
          ]
        }
      ],
      "source": [
        "def hello_world():\n",
        "  print(\"hello world\")\n",
        "\n",
        "\n",
        "if __name__ == \"__main__\":\n",
        "  hello_world()"
      ]
    },
    {
      "cell_type": "markdown",
      "source": [
        "I will put my notes here..."
      ],
      "metadata": {
        "id": "SzcWa1Mfi1eo"
      }
    }
  ]
}